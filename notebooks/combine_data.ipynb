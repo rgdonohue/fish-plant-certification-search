{
 "cells": [
  {
   "cell_type": "code",
   "execution_count": 2,
   "metadata": {},
   "outputs": [],
   "source": [
    "import pandas as pd"
   ]
  },
  {
   "cell_type": "code",
   "execution_count": 3,
   "metadata": {},
   "outputs": [],
   "source": [
    "plants_original_df = pd.read_csv('../data/plants_to_scrape_for_certs_original_01-03.csv')\n",
    "plants_with_info_df = pd.read_csv('../data/plants_with_info_certs_updated.csv')\n",
    "plants_without_info_df = pd.read_csv('../data/plants_without_info_certs_updated.csv')\n",
    "\n",
    "# %%\n"
   ]
  },
  {
   "cell_type": "code",
   "execution_count": 5,
   "metadata": {},
   "outputs": [
    {
     "name": "stderr",
     "output_type": "stream",
     "text": [
      "/var/folders/_0/b5mlf0k969x0dwvkbd92__lc0000gn/T/ipykernel_61965/457382203.py:17: FutureWarning: Setting an item of incompatible dtype is deprecated and will raise an error in a future version of pandas. Value 'https://bhpimpex.ca;https://bhpimpex.ca/' has dtype incompatible with float64, please explicitly cast to a compatible dtype first.\n",
      "  updated_plants_df.at[index, column] = updated_row[column].iloc[0]\n",
      "/var/folders/_0/b5mlf0k969x0dwvkbd92__lc0000gn/T/ipykernel_61965/457382203.py:17: FutureWarning: Setting an item of incompatible dtype is deprecated and will raise an error in a future version of pandas. Value 'https://fishmeal.co/es/home-espanol' has dtype incompatible with float64, please explicitly cast to a compatible dtype first.\n",
      "  updated_plants_df.at[index, column] = updated_row[column].iloc[0]\n",
      "/var/folders/_0/b5mlf0k969x0dwvkbd92__lc0000gn/T/ipykernel_61965/457382203.py:17: FutureWarning: Setting an item of incompatible dtype is deprecated and will raise an error in a future version of pandas. Value 'https://fishmeal.co/es/2024/11/22/harina-de-pescado-en-la-industria-de-la-acuicultura;https://fishmeal.co/es/home-espanol;https://fishmeal.co/id/2024/11/22/tepung-ikan-dalam-industri-akuakultur;https://fishmeal.co/id/2024/11/22/tepung-ikan-dalam-industri-pupuk;https://fishmeal.co/id/home-bahasa-indonesia' has dtype incompatible with float64, please explicitly cast to a compatible dtype first.\n",
      "  updated_plants_df.at[index, column] = updated_row[column].iloc[0]\n",
      "/var/folders/_0/b5mlf0k969x0dwvkbd92__lc0000gn/T/ipykernel_61965/457382203.py:17: FutureWarning: Setting an item of incompatible dtype is deprecated and will raise an error in a future version of pandas. Value 'https://www.olvea.com/news' has dtype incompatible with float64, please explicitly cast to a compatible dtype first.\n",
      "  updated_plants_df.at[index, column] = updated_row[column].iloc[0]\n",
      "/var/folders/_0/b5mlf0k969x0dwvkbd92__lc0000gn/T/ipykernel_61965/457382203.py:17: FutureWarning: Setting an item of incompatible dtype is deprecated and will raise an error in a future version of pandas. Value 'https://www.scoular.com/solutions/pet-food-ingredients' has dtype incompatible with float64, please explicitly cast to a compatible dtype first.\n",
      "  updated_plants_df.at[index, column] = updated_row[column].iloc[0]\n"
     ]
    }
   ],
   "source": [
    "# Create a copy of the original DataFrame to avoid modifying it\n",
    "updated_plants_df = plants_original_df.copy()\n",
    "\n",
    "# Combine plants_with_info_df and plants_without_info_df, dropping duplicates based on Company name\n",
    "all_updated_info = pd.concat([plants_with_info_df, plants_without_info_df]).drop_duplicates(subset=['Company name'])\n",
    "\n",
    "# For each row in the original DataFrame\n",
    "for index, row in updated_plants_df.iterrows():\n",
    "    # Get matching row from combined updated info based on some identifier (assuming index matches)\n",
    "    updated_row = all_updated_info.loc[all_updated_info.index == index]\n",
    "    \n",
    "    if not updated_row.empty:\n",
    "        # For each column in the DataFrame\n",
    "        for column in updated_plants_df.columns:\n",
    "            # If the value is NA/null in original, update it with the new value\n",
    "            if pd.isna(row[column]) and not pd.isna(updated_row[column].iloc[0]):\n",
    "                updated_plants_df.at[index, column] = updated_row[column].iloc[0]\n",
    "\n",
    "# Write the updated DataFrame to a new CSV file\n",
    "updated_plants_df.to_csv('../data/plants_updated_certification_and_info.csv', index=False)\n"
   ]
  },
  {
   "cell_type": "code",
   "execution_count": null,
   "metadata": {},
   "outputs": [],
   "source": []
  }
 ],
 "metadata": {
  "kernelspec": {
   "display_name": "plants-cert",
   "language": "python",
   "name": "python3"
  },
  "language_info": {
   "codemirror_mode": {
    "name": "ipython",
    "version": 3
   },
   "file_extension": ".py",
   "mimetype": "text/x-python",
   "name": "python",
   "nbconvert_exporter": "python",
   "pygments_lexer": "ipython3",
   "version": "3.13.1"
  }
 },
 "nbformat": 4,
 "nbformat_minor": 2
}
